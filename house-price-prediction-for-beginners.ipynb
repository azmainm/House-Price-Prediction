{
 "cells": [
  {
   "cell_type": "markdown",
   "id": "a37de34f",
   "metadata": {
    "papermill": {
     "duration": 0.027311,
     "end_time": "2021-09-26T08:01:21.846647",
     "exception": false,
     "start_time": "2021-09-26T08:01:21.819336",
     "status": "completed"
    },
    "tags": []
   },
   "source": [
    "# Introduction"
   ]
  },
  {
   "cell_type": "markdown",
   "id": "7feb4bd0",
   "metadata": {
    "papermill": {
     "duration": 0.024117,
     "end_time": "2021-09-26T08:01:21.895374",
     "exception": false,
     "start_time": "2021-09-26T08:01:21.871257",
     "status": "completed"
    },
    "tags": []
   },
   "source": [
    "**This notebook is a guide for beginners into machine learning, linear regression to be more specific. There will be comments every step of the way so there is a clear understanding. We will be building a house price prediction system.**"
   ]
  },
  {
   "cell_type": "markdown",
   "id": "33ce0e67",
   "metadata": {
    "papermill": {
     "duration": 0.023632,
     "end_time": "2021-09-26T08:01:21.943642",
     "exception": false,
     "start_time": "2021-09-26T08:01:21.920010",
     "status": "completed"
    },
    "tags": []
   },
   "source": [
    "# Supervised vs Unsupervised Machine Learning"
   ]
  },
  {
   "cell_type": "markdown",
   "id": "34b77e79",
   "metadata": {
    "papermill": {
     "duration": 0.023604,
     "end_time": "2021-09-26T08:01:21.991505",
     "exception": false,
     "start_time": "2021-09-26T08:01:21.967901",
     "status": "completed"
    },
    "tags": []
   },
   "source": [
    "**Machine learning is divided into supervised and unsupervised learning. We train our model with data that we have previously acquired in supervised learning. In unsupervised learning, we have no data that we can train our model with.**\n",
    "\n",
    "**Supervised machine learning is divided into classification and regression. In classification, we predict discrete values, e.g. Yes/No, Customer will purchase/Won't purchase. But in regression, we predict continuous values, such as age, price, etc.**"
   ]
  },
  {
   "cell_type": "markdown",
   "id": "64adee7c",
   "metadata": {
    "papermill": {
     "duration": 0.025079,
     "end_time": "2021-09-26T08:01:22.040769",
     "exception": false,
     "start_time": "2021-09-26T08:01:22.015690",
     "status": "completed"
    },
    "tags": []
   },
   "source": [
    "# Importing Libraries and dataset"
   ]
  },
  {
   "cell_type": "code",
   "execution_count": 1,
   "id": "e9969b04",
   "metadata": {
    "_cell_guid": "b1076dfc-b9ad-4769-8c92-a6c4dae69d19",
    "_uuid": "8f2839f25d086af736a60e9eeb907d3b93b6e0e5",
    "execution": {
     "iopub.execute_input": "2021-09-26T08:01:22.098992Z",
     "iopub.status.busy": "2021-09-26T08:01:22.098342Z",
     "iopub.status.idle": "2021-09-26T08:01:23.340312Z",
     "shell.execute_reply": "2021-09-26T08:01:23.340858Z",
     "shell.execute_reply.started": "2021-09-26T07:30:19.359912Z"
    },
    "papermill": {
     "duration": 1.276478,
     "end_time": "2021-09-26T08:01:23.341235",
     "exception": false,
     "start_time": "2021-09-26T08:01:22.064757",
     "status": "completed"
    },
    "tags": []
   },
   "outputs": [],
   "source": [
    "import numpy as np # linear algebra\n",
    "import pandas as pd # data processing, CSV file I/O (e.g. pd.read_csv)\n",
    "import matplotlib.pyplot as plt\n",
    "import seaborn as sns\n",
    "import sklearn.datasets\n",
    "from sklearn.model_selection import train_test_split\n",
    "from xgboost import XGBRegressor\n",
    "from sklearn import metrics\n",
    "import os\n",
    "for dirname, _, filenames in os.walk('/kaggle/input'):\n",
    "    for filename in filenames:\n",
    "        print(os.path.join(dirname, filename))"
   ]
  },
  {
   "cell_type": "code",
   "execution_count": 2,
   "id": "b8087361",
   "metadata": {
    "execution": {
     "iopub.execute_input": "2021-09-26T08:01:23.393430Z",
     "iopub.status.busy": "2021-09-26T08:01:23.392587Z",
     "iopub.status.idle": "2021-09-26T08:01:23.417900Z",
     "shell.execute_reply": "2021-09-26T08:01:23.418455Z",
     "shell.execute_reply.started": "2021-09-26T07:30:19.369359Z"
    },
    "papermill": {
     "duration": 0.053112,
     "end_time": "2021-09-26T08:01:23.418649",
     "exception": false,
     "start_time": "2021-09-26T08:01:23.365537",
     "status": "completed"
    },
    "tags": []
   },
   "outputs": [
    {
     "name": "stdout",
     "output_type": "stream",
     "text": [
      "{'data': array([[6.3200e-03, 1.8000e+01, 2.3100e+00, ..., 1.5300e+01, 3.9690e+02,\n",
      "        4.9800e+00],\n",
      "       [2.7310e-02, 0.0000e+00, 7.0700e+00, ..., 1.7800e+01, 3.9690e+02,\n",
      "        9.1400e+00],\n",
      "       [2.7290e-02, 0.0000e+00, 7.0700e+00, ..., 1.7800e+01, 3.9283e+02,\n",
      "        4.0300e+00],\n",
      "       ...,\n",
      "       [6.0760e-02, 0.0000e+00, 1.1930e+01, ..., 2.1000e+01, 3.9690e+02,\n",
      "        5.6400e+00],\n",
      "       [1.0959e-01, 0.0000e+00, 1.1930e+01, ..., 2.1000e+01, 3.9345e+02,\n",
      "        6.4800e+00],\n",
      "       [4.7410e-02, 0.0000e+00, 1.1930e+01, ..., 2.1000e+01, 3.9690e+02,\n",
      "        7.8800e+00]]), 'target': array([24. , 21.6, 34.7, 33.4, 36.2, 28.7, 22.9, 27.1, 16.5, 18.9, 15. ,\n",
      "       18.9, 21.7, 20.4, 18.2, 19.9, 23.1, 17.5, 20.2, 18.2, 13.6, 19.6,\n",
      "       15.2, 14.5, 15.6, 13.9, 16.6, 14.8, 18.4, 21. , 12.7, 14.5, 13.2,\n",
      "       13.1, 13.5, 18.9, 20. , 21. , 24.7, 30.8, 34.9, 26.6, 25.3, 24.7,\n",
      "       21.2, 19.3, 20. , 16.6, 14.4, 19.4, 19.7, 20.5, 25. , 23.4, 18.9,\n",
      "       35.4, 24.7, 31.6, 23.3, 19.6, 18.7, 16. , 22.2, 25. , 33. , 23.5,\n",
      "       19.4, 22. , 17.4, 20.9, 24.2, 21.7, 22.8, 23.4, 24.1, 21.4, 20. ,\n",
      "       20.8, 21.2, 20.3, 28. , 23.9, 24.8, 22.9, 23.9, 26.6, 22.5, 22.2,\n",
      "       23.6, 28.7, 22.6, 22. , 22.9, 25. , 20.6, 28.4, 21.4, 38.7, 43.8,\n",
      "       33.2, 27.5, 26.5, 18.6, 19.3, 20.1, 19.5, 19.5, 20.4, 19.8, 19.4,\n",
      "       21.7, 22.8, 18.8, 18.7, 18.5, 18.3, 21.2, 19.2, 20.4, 19.3, 22. ,\n",
      "       20.3, 20.5, 17.3, 18.8, 21.4, 15.7, 16.2, 18. , 14.3, 19.2, 19.6,\n",
      "       23. , 18.4, 15.6, 18.1, 17.4, 17.1, 13.3, 17.8, 14. , 14.4, 13.4,\n",
      "       15.6, 11.8, 13.8, 15.6, 14.6, 17.8, 15.4, 21.5, 19.6, 15.3, 19.4,\n",
      "       17. , 15.6, 13.1, 41.3, 24.3, 23.3, 27. , 50. , 50. , 50. , 22.7,\n",
      "       25. , 50. , 23.8, 23.8, 22.3, 17.4, 19.1, 23.1, 23.6, 22.6, 29.4,\n",
      "       23.2, 24.6, 29.9, 37.2, 39.8, 36.2, 37.9, 32.5, 26.4, 29.6, 50. ,\n",
      "       32. , 29.8, 34.9, 37. , 30.5, 36.4, 31.1, 29.1, 50. , 33.3, 30.3,\n",
      "       34.6, 34.9, 32.9, 24.1, 42.3, 48.5, 50. , 22.6, 24.4, 22.5, 24.4,\n",
      "       20. , 21.7, 19.3, 22.4, 28.1, 23.7, 25. , 23.3, 28.7, 21.5, 23. ,\n",
      "       26.7, 21.7, 27.5, 30.1, 44.8, 50. , 37.6, 31.6, 46.7, 31.5, 24.3,\n",
      "       31.7, 41.7, 48.3, 29. , 24. , 25.1, 31.5, 23.7, 23.3, 22. , 20.1,\n",
      "       22.2, 23.7, 17.6, 18.5, 24.3, 20.5, 24.5, 26.2, 24.4, 24.8, 29.6,\n",
      "       42.8, 21.9, 20.9, 44. , 50. , 36. , 30.1, 33.8, 43.1, 48.8, 31. ,\n",
      "       36.5, 22.8, 30.7, 50. , 43.5, 20.7, 21.1, 25.2, 24.4, 35.2, 32.4,\n",
      "       32. , 33.2, 33.1, 29.1, 35.1, 45.4, 35.4, 46. , 50. , 32.2, 22. ,\n",
      "       20.1, 23.2, 22.3, 24.8, 28.5, 37.3, 27.9, 23.9, 21.7, 28.6, 27.1,\n",
      "       20.3, 22.5, 29. , 24.8, 22. , 26.4, 33.1, 36.1, 28.4, 33.4, 28.2,\n",
      "       22.8, 20.3, 16.1, 22.1, 19.4, 21.6, 23.8, 16.2, 17.8, 19.8, 23.1,\n",
      "       21. , 23.8, 23.1, 20.4, 18.5, 25. , 24.6, 23. , 22.2, 19.3, 22.6,\n",
      "       19.8, 17.1, 19.4, 22.2, 20.7, 21.1, 19.5, 18.5, 20.6, 19. , 18.7,\n",
      "       32.7, 16.5, 23.9, 31.2, 17.5, 17.2, 23.1, 24.5, 26.6, 22.9, 24.1,\n",
      "       18.6, 30.1, 18.2, 20.6, 17.8, 21.7, 22.7, 22.6, 25. , 19.9, 20.8,\n",
      "       16.8, 21.9, 27.5, 21.9, 23.1, 50. , 50. , 50. , 50. , 50. , 13.8,\n",
      "       13.8, 15. , 13.9, 13.3, 13.1, 10.2, 10.4, 10.9, 11.3, 12.3,  8.8,\n",
      "        7.2, 10.5,  7.4, 10.2, 11.5, 15.1, 23.2,  9.7, 13.8, 12.7, 13.1,\n",
      "       12.5,  8.5,  5. ,  6.3,  5.6,  7.2, 12.1,  8.3,  8.5,  5. , 11.9,\n",
      "       27.9, 17.2, 27.5, 15. , 17.2, 17.9, 16.3,  7. ,  7.2,  7.5, 10.4,\n",
      "        8.8,  8.4, 16.7, 14.2, 20.8, 13.4, 11.7,  8.3, 10.2, 10.9, 11. ,\n",
      "        9.5, 14.5, 14.1, 16.1, 14.3, 11.7, 13.4,  9.6,  8.7,  8.4, 12.8,\n",
      "       10.5, 17.1, 18.4, 15.4, 10.8, 11.8, 14.9, 12.6, 14.1, 13. , 13.4,\n",
      "       15.2, 16.1, 17.8, 14.9, 14.1, 12.7, 13.5, 14.9, 20. , 16.4, 17.7,\n",
      "       19.5, 20.2, 21.4, 19.9, 19. , 19.1, 19.1, 20.1, 19.9, 19.6, 23.2,\n",
      "       29.8, 13.8, 13.3, 16.7, 12. , 14.6, 21.4, 23. , 23.7, 25. , 21.8,\n",
      "       20.6, 21.2, 19.1, 20.6, 15.2,  7. ,  8.1, 13.6, 20.1, 21.8, 24.5,\n",
      "       23.1, 19.7, 18.3, 21.2, 17.5, 16.8, 22.4, 20.6, 23.9, 22. , 11.9]), 'feature_names': array(['CRIM', 'ZN', 'INDUS', 'CHAS', 'NOX', 'RM', 'AGE', 'DIS', 'RAD',\n",
      "       'TAX', 'PTRATIO', 'B', 'LSTAT'], dtype='<U7'), 'DESCR': \".. _boston_dataset:\\n\\nBoston house prices dataset\\n---------------------------\\n\\n**Data Set Characteristics:**  \\n\\n    :Number of Instances: 506 \\n\\n    :Number of Attributes: 13 numeric/categorical predictive. Median Value (attribute 14) is usually the target.\\n\\n    :Attribute Information (in order):\\n        - CRIM     per capita crime rate by town\\n        - ZN       proportion of residential land zoned for lots over 25,000 sq.ft.\\n        - INDUS    proportion of non-retail business acres per town\\n        - CHAS     Charles River dummy variable (= 1 if tract bounds river; 0 otherwise)\\n        - NOX      nitric oxides concentration (parts per 10 million)\\n        - RM       average number of rooms per dwelling\\n        - AGE      proportion of owner-occupied units built prior to 1940\\n        - DIS      weighted distances to five Boston employment centres\\n        - RAD      index of accessibility to radial highways\\n        - TAX      full-value property-tax rate per $10,000\\n        - PTRATIO  pupil-teacher ratio by town\\n        - B        1000(Bk - 0.63)^2 where Bk is the proportion of blacks by town\\n        - LSTAT    % lower status of the population\\n        - MEDV     Median value of owner-occupied homes in $1000's\\n\\n    :Missing Attribute Values: None\\n\\n    :Creator: Harrison, D. and Rubinfeld, D.L.\\n\\nThis is a copy of UCI ML housing dataset.\\nhttps://archive.ics.uci.edu/ml/machine-learning-databases/housing/\\n\\n\\nThis dataset was taken from the StatLib library which is maintained at Carnegie Mellon University.\\n\\nThe Boston house-price data of Harrison, D. and Rubinfeld, D.L. 'Hedonic\\nprices and the demand for clean air', J. Environ. Economics & Management,\\nvol.5, 81-102, 1978.   Used in Belsley, Kuh & Welsch, 'Regression diagnostics\\n...', Wiley, 1980.   N.B. Various transformations are used in the table on\\npages 244-261 of the latter.\\n\\nThe Boston house-price data has been used in many machine learning papers that address regression\\nproblems.   \\n     \\n.. topic:: References\\n\\n   - Belsley, Kuh & Welsch, 'Regression diagnostics: Identifying Influential Data and Sources of Collinearity', Wiley, 1980. 244-261.\\n   - Quinlan,R. (1993). Combining Instance-Based and Model-Based Learning. In Proceedings on the Tenth International Conference of Machine Learning, 236-243, University of Massachusetts, Amherst. Morgan Kaufmann.\\n\", 'filename': '/opt/conda/lib/python3.7/site-packages/sklearn/datasets/data/boston_house_prices.csv'}\n"
     ]
    }
   ],
   "source": [
    "# Importing dataset\n",
    "hp_dataset = sklearn.datasets.load_boston()\n",
    "print(hp_dataset)"
   ]
  },
  {
   "cell_type": "code",
   "execution_count": 3,
   "id": "3dd4e339",
   "metadata": {
    "execution": {
     "iopub.execute_input": "2021-09-26T08:01:23.475428Z",
     "iopub.status.busy": "2021-09-26T08:01:23.474718Z",
     "iopub.status.idle": "2021-09-26T08:01:23.477228Z",
     "shell.execute_reply": "2021-09-26T08:01:23.476716Z",
     "shell.execute_reply.started": "2021-09-26T07:30:19.390179Z"
    },
    "papermill": {
     "duration": 0.033834,
     "end_time": "2021-09-26T08:01:23.477393",
     "exception": false,
     "start_time": "2021-09-26T08:01:23.443559",
     "status": "completed"
    },
    "tags": []
   },
   "outputs": [],
   "source": [
    "# The data looks very unorganized so we can load it into a pandas dataframe for more structure\n",
    "hp_data = pd.DataFrame(hp_dataset.data,columns=hp_dataset.feature_names)"
   ]
  },
  {
   "cell_type": "code",
   "execution_count": 4,
   "id": "c5c6ae8e",
   "metadata": {
    "execution": {
     "iopub.execute_input": "2021-09-26T08:01:23.541765Z",
     "iopub.status.busy": "2021-09-26T08:01:23.541015Z",
     "iopub.status.idle": "2021-09-26T08:01:23.589507Z",
     "shell.execute_reply": "2021-09-26T08:01:23.590263Z",
     "shell.execute_reply.started": "2021-09-26T07:30:19.397282Z"
    },
    "papermill": {
     "duration": 0.087028,
     "end_time": "2021-09-26T08:01:23.590550",
     "exception": false,
     "start_time": "2021-09-26T08:01:23.503522",
     "status": "completed"
    },
    "tags": []
   },
   "outputs": [
    {
     "data": {
      "text/html": [
       "<div>\n",
       "<style scoped>\n",
       "    .dataframe tbody tr th:only-of-type {\n",
       "        vertical-align: middle;\n",
       "    }\n",
       "\n",
       "    .dataframe tbody tr th {\n",
       "        vertical-align: top;\n",
       "    }\n",
       "\n",
       "    .dataframe thead th {\n",
       "        text-align: right;\n",
       "    }\n",
       "</style>\n",
       "<table border=\"1\" class=\"dataframe\">\n",
       "  <thead>\n",
       "    <tr style=\"text-align: right;\">\n",
       "      <th></th>\n",
       "      <th>CRIM</th>\n",
       "      <th>ZN</th>\n",
       "      <th>INDUS</th>\n",
       "      <th>CHAS</th>\n",
       "      <th>NOX</th>\n",
       "      <th>RM</th>\n",
       "      <th>AGE</th>\n",
       "      <th>DIS</th>\n",
       "      <th>RAD</th>\n",
       "      <th>TAX</th>\n",
       "      <th>PTRATIO</th>\n",
       "      <th>B</th>\n",
       "      <th>LSTAT</th>\n",
       "    </tr>\n",
       "  </thead>\n",
       "  <tbody>\n",
       "    <tr>\n",
       "      <th>0</th>\n",
       "      <td>0.00632</td>\n",
       "      <td>18.0</td>\n",
       "      <td>2.31</td>\n",
       "      <td>0.0</td>\n",
       "      <td>0.538</td>\n",
       "      <td>6.575</td>\n",
       "      <td>65.2</td>\n",
       "      <td>4.0900</td>\n",
       "      <td>1.0</td>\n",
       "      <td>296.0</td>\n",
       "      <td>15.3</td>\n",
       "      <td>396.90</td>\n",
       "      <td>4.98</td>\n",
       "    </tr>\n",
       "    <tr>\n",
       "      <th>1</th>\n",
       "      <td>0.02731</td>\n",
       "      <td>0.0</td>\n",
       "      <td>7.07</td>\n",
       "      <td>0.0</td>\n",
       "      <td>0.469</td>\n",
       "      <td>6.421</td>\n",
       "      <td>78.9</td>\n",
       "      <td>4.9671</td>\n",
       "      <td>2.0</td>\n",
       "      <td>242.0</td>\n",
       "      <td>17.8</td>\n",
       "      <td>396.90</td>\n",
       "      <td>9.14</td>\n",
       "    </tr>\n",
       "    <tr>\n",
       "      <th>2</th>\n",
       "      <td>0.02729</td>\n",
       "      <td>0.0</td>\n",
       "      <td>7.07</td>\n",
       "      <td>0.0</td>\n",
       "      <td>0.469</td>\n",
       "      <td>7.185</td>\n",
       "      <td>61.1</td>\n",
       "      <td>4.9671</td>\n",
       "      <td>2.0</td>\n",
       "      <td>242.0</td>\n",
       "      <td>17.8</td>\n",
       "      <td>392.83</td>\n",
       "      <td>4.03</td>\n",
       "    </tr>\n",
       "    <tr>\n",
       "      <th>3</th>\n",
       "      <td>0.03237</td>\n",
       "      <td>0.0</td>\n",
       "      <td>2.18</td>\n",
       "      <td>0.0</td>\n",
       "      <td>0.458</td>\n",
       "      <td>6.998</td>\n",
       "      <td>45.8</td>\n",
       "      <td>6.0622</td>\n",
       "      <td>3.0</td>\n",
       "      <td>222.0</td>\n",
       "      <td>18.7</td>\n",
       "      <td>394.63</td>\n",
       "      <td>2.94</td>\n",
       "    </tr>\n",
       "    <tr>\n",
       "      <th>4</th>\n",
       "      <td>0.06905</td>\n",
       "      <td>0.0</td>\n",
       "      <td>2.18</td>\n",
       "      <td>0.0</td>\n",
       "      <td>0.458</td>\n",
       "      <td>7.147</td>\n",
       "      <td>54.2</td>\n",
       "      <td>6.0622</td>\n",
       "      <td>3.0</td>\n",
       "      <td>222.0</td>\n",
       "      <td>18.7</td>\n",
       "      <td>396.90</td>\n",
       "      <td>5.33</td>\n",
       "    </tr>\n",
       "  </tbody>\n",
       "</table>\n",
       "</div>"
      ],
      "text/plain": [
       "      CRIM    ZN  INDUS  CHAS    NOX     RM   AGE     DIS  RAD    TAX  \\\n",
       "0  0.00632  18.0   2.31   0.0  0.538  6.575  65.2  4.0900  1.0  296.0   \n",
       "1  0.02731   0.0   7.07   0.0  0.469  6.421  78.9  4.9671  2.0  242.0   \n",
       "2  0.02729   0.0   7.07   0.0  0.469  7.185  61.1  4.9671  2.0  242.0   \n",
       "3  0.03237   0.0   2.18   0.0  0.458  6.998  45.8  6.0622  3.0  222.0   \n",
       "4  0.06905   0.0   2.18   0.0  0.458  7.147  54.2  6.0622  3.0  222.0   \n",
       "\n",
       "   PTRATIO       B  LSTAT  \n",
       "0     15.3  396.90   4.98  \n",
       "1     17.8  396.90   9.14  \n",
       "2     17.8  392.83   4.03  \n",
       "3     18.7  394.63   2.94  \n",
       "4     18.7  396.90   5.33  "
      ]
     },
     "execution_count": 4,
     "metadata": {},
     "output_type": "execute_result"
    }
   ],
   "source": [
    "# Viewing first 5 rows of the dataframe\n",
    "hp_data.head()"
   ]
  },
  {
   "cell_type": "code",
   "execution_count": 5,
   "id": "e3dccfe8",
   "metadata": {
    "execution": {
     "iopub.execute_input": "2021-09-26T08:01:23.692671Z",
     "iopub.status.busy": "2021-09-26T08:01:23.690689Z",
     "iopub.status.idle": "2021-09-26T08:01:23.695361Z",
     "shell.execute_reply": "2021-09-26T08:01:23.694813Z",
     "shell.execute_reply.started": "2021-09-26T07:30:19.439818Z"
    },
    "papermill": {
     "duration": 0.073425,
     "end_time": "2021-09-26T08:01:23.695505",
     "exception": false,
     "start_time": "2021-09-26T08:01:23.622080",
     "status": "completed"
    },
    "tags": []
   },
   "outputs": [
    {
     "data": {
      "text/html": [
       "<div>\n",
       "<style scoped>\n",
       "    .dataframe tbody tr th:only-of-type {\n",
       "        vertical-align: middle;\n",
       "    }\n",
       "\n",
       "    .dataframe tbody tr th {\n",
       "        vertical-align: top;\n",
       "    }\n",
       "\n",
       "    .dataframe thead th {\n",
       "        text-align: right;\n",
       "    }\n",
       "</style>\n",
       "<table border=\"1\" class=\"dataframe\">\n",
       "  <thead>\n",
       "    <tr style=\"text-align: right;\">\n",
       "      <th></th>\n",
       "      <th>CRIM</th>\n",
       "      <th>ZN</th>\n",
       "      <th>INDUS</th>\n",
       "      <th>CHAS</th>\n",
       "      <th>NOX</th>\n",
       "      <th>RM</th>\n",
       "      <th>AGE</th>\n",
       "      <th>DIS</th>\n",
       "      <th>RAD</th>\n",
       "      <th>TAX</th>\n",
       "      <th>PTRATIO</th>\n",
       "      <th>B</th>\n",
       "      <th>LSTAT</th>\n",
       "      <th>price</th>\n",
       "    </tr>\n",
       "  </thead>\n",
       "  <tbody>\n",
       "    <tr>\n",
       "      <th>0</th>\n",
       "      <td>0.00632</td>\n",
       "      <td>18.0</td>\n",
       "      <td>2.31</td>\n",
       "      <td>0.0</td>\n",
       "      <td>0.538</td>\n",
       "      <td>6.575</td>\n",
       "      <td>65.2</td>\n",
       "      <td>4.0900</td>\n",
       "      <td>1.0</td>\n",
       "      <td>296.0</td>\n",
       "      <td>15.3</td>\n",
       "      <td>396.90</td>\n",
       "      <td>4.98</td>\n",
       "      <td>24.0</td>\n",
       "    </tr>\n",
       "    <tr>\n",
       "      <th>1</th>\n",
       "      <td>0.02731</td>\n",
       "      <td>0.0</td>\n",
       "      <td>7.07</td>\n",
       "      <td>0.0</td>\n",
       "      <td>0.469</td>\n",
       "      <td>6.421</td>\n",
       "      <td>78.9</td>\n",
       "      <td>4.9671</td>\n",
       "      <td>2.0</td>\n",
       "      <td>242.0</td>\n",
       "      <td>17.8</td>\n",
       "      <td>396.90</td>\n",
       "      <td>9.14</td>\n",
       "      <td>21.6</td>\n",
       "    </tr>\n",
       "    <tr>\n",
       "      <th>2</th>\n",
       "      <td>0.02729</td>\n",
       "      <td>0.0</td>\n",
       "      <td>7.07</td>\n",
       "      <td>0.0</td>\n",
       "      <td>0.469</td>\n",
       "      <td>7.185</td>\n",
       "      <td>61.1</td>\n",
       "      <td>4.9671</td>\n",
       "      <td>2.0</td>\n",
       "      <td>242.0</td>\n",
       "      <td>17.8</td>\n",
       "      <td>392.83</td>\n",
       "      <td>4.03</td>\n",
       "      <td>34.7</td>\n",
       "    </tr>\n",
       "    <tr>\n",
       "      <th>3</th>\n",
       "      <td>0.03237</td>\n",
       "      <td>0.0</td>\n",
       "      <td>2.18</td>\n",
       "      <td>0.0</td>\n",
       "      <td>0.458</td>\n",
       "      <td>6.998</td>\n",
       "      <td>45.8</td>\n",
       "      <td>6.0622</td>\n",
       "      <td>3.0</td>\n",
       "      <td>222.0</td>\n",
       "      <td>18.7</td>\n",
       "      <td>394.63</td>\n",
       "      <td>2.94</td>\n",
       "      <td>33.4</td>\n",
       "    </tr>\n",
       "    <tr>\n",
       "      <th>4</th>\n",
       "      <td>0.06905</td>\n",
       "      <td>0.0</td>\n",
       "      <td>2.18</td>\n",
       "      <td>0.0</td>\n",
       "      <td>0.458</td>\n",
       "      <td>7.147</td>\n",
       "      <td>54.2</td>\n",
       "      <td>6.0622</td>\n",
       "      <td>3.0</td>\n",
       "      <td>222.0</td>\n",
       "      <td>18.7</td>\n",
       "      <td>396.90</td>\n",
       "      <td>5.33</td>\n",
       "      <td>36.2</td>\n",
       "    </tr>\n",
       "  </tbody>\n",
       "</table>\n",
       "</div>"
      ],
      "text/plain": [
       "      CRIM    ZN  INDUS  CHAS    NOX     RM   AGE     DIS  RAD    TAX  \\\n",
       "0  0.00632  18.0   2.31   0.0  0.538  6.575  65.2  4.0900  1.0  296.0   \n",
       "1  0.02731   0.0   7.07   0.0  0.469  6.421  78.9  4.9671  2.0  242.0   \n",
       "2  0.02729   0.0   7.07   0.0  0.469  7.185  61.1  4.9671  2.0  242.0   \n",
       "3  0.03237   0.0   2.18   0.0  0.458  6.998  45.8  6.0622  3.0  222.0   \n",
       "4  0.06905   0.0   2.18   0.0  0.458  7.147  54.2  6.0622  3.0  222.0   \n",
       "\n",
       "   PTRATIO       B  LSTAT  price  \n",
       "0     15.3  396.90   4.98   24.0  \n",
       "1     17.8  396.90   9.14   21.6  \n",
       "2     17.8  392.83   4.03   34.7  \n",
       "3     18.7  394.63   2.94   33.4  \n",
       "4     18.7  396.90   5.33   36.2  "
      ]
     },
     "execution_count": 5,
     "metadata": {},
     "output_type": "execute_result"
    }
   ],
   "source": [
    "# The price (target) column is missing so we add it\n",
    "hp_data['price'] = hp_dataset.target\n",
    "\n",
    "hp_data.head()"
   ]
  },
  {
   "cell_type": "markdown",
   "id": "f6f82a0f",
   "metadata": {
    "papermill": {
     "duration": 0.026607,
     "end_time": "2021-09-26T08:01:23.748570",
     "exception": false,
     "start_time": "2021-09-26T08:01:23.721963",
     "status": "completed"
    },
    "tags": []
   },
   "source": [
    "# Missing values"
   ]
  },
  {
   "cell_type": "code",
   "execution_count": 6,
   "id": "e8125123",
   "metadata": {
    "execution": {
     "iopub.execute_input": "2021-09-26T08:01:23.829236Z",
     "iopub.status.busy": "2021-09-26T08:01:23.828432Z",
     "iopub.status.idle": "2021-09-26T08:01:23.832412Z",
     "shell.execute_reply": "2021-09-26T08:01:23.833135Z",
     "shell.execute_reply.started": "2021-09-26T07:30:19.474352Z"
    },
    "papermill": {
     "duration": 0.05852,
     "end_time": "2021-09-26T08:01:23.833390",
     "exception": false,
     "start_time": "2021-09-26T08:01:23.774870",
     "status": "completed"
    },
    "tags": []
   },
   "outputs": [
    {
     "name": "stdout",
     "output_type": "stream",
     "text": [
      "<class 'pandas.core.frame.DataFrame'>\n",
      "RangeIndex: 506 entries, 0 to 505\n",
      "Data columns (total 14 columns):\n",
      " #   Column   Non-Null Count  Dtype  \n",
      "---  ------   --------------  -----  \n",
      " 0   CRIM     506 non-null    float64\n",
      " 1   ZN       506 non-null    float64\n",
      " 2   INDUS    506 non-null    float64\n",
      " 3   CHAS     506 non-null    float64\n",
      " 4   NOX      506 non-null    float64\n",
      " 5   RM       506 non-null    float64\n",
      " 6   AGE      506 non-null    float64\n",
      " 7   DIS      506 non-null    float64\n",
      " 8   RAD      506 non-null    float64\n",
      " 9   TAX      506 non-null    float64\n",
      " 10  PTRATIO  506 non-null    float64\n",
      " 11  B        506 non-null    float64\n",
      " 12  LSTAT    506 non-null    float64\n",
      " 13  price    506 non-null    float64\n",
      "dtypes: float64(14)\n",
      "memory usage: 55.5 KB\n"
     ]
    }
   ],
   "source": [
    "hp_data.info()"
   ]
  },
  {
   "cell_type": "code",
   "execution_count": 7,
   "id": "8c18f3b8",
   "metadata": {
    "execution": {
     "iopub.execute_input": "2021-09-26T08:01:23.920335Z",
     "iopub.status.busy": "2021-09-26T08:01:23.919660Z",
     "iopub.status.idle": "2021-09-26T08:01:23.929931Z",
     "shell.execute_reply": "2021-09-26T08:01:23.930628Z",
     "shell.execute_reply.started": "2021-09-26T07:30:19.496593Z"
    },
    "papermill": {
     "duration": 0.057596,
     "end_time": "2021-09-26T08:01:23.930812",
     "exception": false,
     "start_time": "2021-09-26T08:01:23.873216",
     "status": "completed"
    },
    "tags": []
   },
   "outputs": [
    {
     "data": {
      "text/plain": [
       "CRIM       0\n",
       "ZN         0\n",
       "INDUS      0\n",
       "CHAS       0\n",
       "NOX        0\n",
       "RM         0\n",
       "AGE        0\n",
       "DIS        0\n",
       "RAD        0\n",
       "TAX        0\n",
       "PTRATIO    0\n",
       "B          0\n",
       "LSTAT      0\n",
       "price      0\n",
       "dtype: int64"
      ]
     },
     "execution_count": 7,
     "metadata": {},
     "output_type": "execute_result"
    }
   ],
   "source": [
    "hp_data.isnull().sum()"
   ]
  },
  {
   "cell_type": "markdown",
   "id": "6199058c",
   "metadata": {
    "papermill": {
     "duration": 0.026105,
     "end_time": "2021-09-26T08:01:23.983473",
     "exception": false,
     "start_time": "2021-09-26T08:01:23.957368",
     "status": "completed"
    },
    "tags": []
   },
   "source": [
    "**Good thing we have no missing values in this dataset so no imputation (replacing missing values with other appropriate ones) necessary.**"
   ]
  },
  {
   "cell_type": "markdown",
   "id": "8416300f",
   "metadata": {
    "papermill": {
     "duration": 0.026794,
     "end_time": "2021-09-26T08:01:24.037256",
     "exception": false,
     "start_time": "2021-09-26T08:01:24.010462",
     "status": "completed"
    },
    "tags": []
   },
   "source": [
    "# Correlation"
   ]
  },
  {
   "cell_type": "code",
   "execution_count": 8,
   "id": "666229ba",
   "metadata": {
    "execution": {
     "iopub.execute_input": "2021-09-26T08:01:24.094896Z",
     "iopub.status.busy": "2021-09-26T08:01:24.094224Z",
     "iopub.status.idle": "2021-09-26T08:01:25.587826Z",
     "shell.execute_reply": "2021-09-26T08:01:25.588335Z",
     "shell.execute_reply.started": "2021-09-26T07:30:19.514599Z"
    },
    "papermill": {
     "duration": 1.524486,
     "end_time": "2021-09-26T08:01:25.588534",
     "exception": false,
     "start_time": "2021-09-26T08:01:24.064048",
     "status": "completed"
    },
    "tags": []
   },
   "outputs": [
    {
     "data": {
      "text/plain": [
       "<AxesSubplot:>"
      ]
     },
     "execution_count": 8,
     "metadata": {},
     "output_type": "execute_result"
    },
    {
     "data": {
      "image/png": "[encoded data removed]",
      "text/plain": [
       "<Figure size 576x576 with 2 Axes>"
      ]
     },
     "metadata": {
      "needs_background": "light"
     },
     "output_type": "display_data"
    }
   ],
   "source": [
    "# We can use a heatmap to check correlation between the variables.\n",
    "corr = hp_data.corr()\n",
    "plt.figure(figsize=(8,8))\n",
    "sns.heatmap(corr,cbar=True,square=True,fmt='.1f',annot=True,cmap='Reds')"
   ]
  },
  {
   "cell_type": "markdown",
   "id": "a173fde5",
   "metadata": {
    "papermill": {
     "duration": 0.029446,
     "end_time": "2021-09-26T08:01:25.648869",
     "exception": false,
     "start_time": "2021-09-26T08:01:25.619423",
     "status": "completed"
    },
    "tags": []
   },
   "source": [
    "**This is a good visualization. We can make observations such as, as RM increases, price increases and as NOX increases, DIS decreases.**"
   ]
  },
  {
   "cell_type": "markdown",
   "id": "fb56d1ef",
   "metadata": {
    "papermill": {
     "duration": 0.029372,
     "end_time": "2021-09-26T08:01:25.708201",
     "exception": false,
     "start_time": "2021-09-26T08:01:25.678829",
     "status": "completed"
    },
    "tags": []
   },
   "source": [
    "# Splitting Data"
   ]
  },
  {
   "cell_type": "code",
   "execution_count": 9,
   "id": "257e73b5",
   "metadata": {
    "execution": {
     "iopub.execute_input": "2021-09-26T08:01:25.770918Z",
     "iopub.status.busy": "2021-09-26T08:01:25.770302Z",
     "iopub.status.idle": "2021-09-26T08:01:25.780589Z",
     "shell.execute_reply": "2021-09-26T08:01:25.781102Z",
     "shell.execute_reply.started": "2021-09-26T07:30:20.858391Z"
    },
    "papermill": {
     "duration": 0.04346,
     "end_time": "2021-09-26T08:01:25.781308",
     "exception": false,
     "start_time": "2021-09-26T08:01:25.737848",
     "status": "completed"
    },
    "tags": []
   },
   "outputs": [],
   "source": [
    "# We need to split the data\n",
    "X = hp_data.drop(['price'],axis=1) # We need all the variables (columns) as independent variables so we're just dropping the target column to make things easier.\n",
    "y = hp_data['price'] # Target\n",
    "\n",
    "# Then we split the data into training and testing data\n",
    "X_train, X_test, y_train, y_test = train_test_split(X,y,test_size = 0.2, random_state = 2) # 80% data will be used for training the model and rest 20% for testing."
   ]
  },
  {
   "cell_type": "code",
   "execution_count": 10,
   "id": "1c7f8d15",
   "metadata": {
    "execution": {
     "iopub.execute_input": "2021-09-26T08:01:25.844146Z",
     "iopub.status.busy": "2021-09-26T08:01:25.843488Z",
     "iopub.status.idle": "2021-09-26T08:01:25.848768Z",
     "shell.execute_reply": "2021-09-26T08:01:25.849409Z",
     "shell.execute_reply.started": "2021-09-26T07:30:20.868240Z"
    },
    "papermill": {
     "duration": 0.0387,
     "end_time": "2021-09-26T08:01:25.849598",
     "exception": false,
     "start_time": "2021-09-26T08:01:25.810898",
     "status": "completed"
    },
    "tags": []
   },
   "outputs": [
    {
     "data": {
      "text/plain": [
       "(506, 13)"
      ]
     },
     "execution_count": 10,
     "metadata": {},
     "output_type": "execute_result"
    }
   ],
   "source": [
    "X.shape"
   ]
  },
  {
   "cell_type": "code",
   "execution_count": 11,
   "id": "416fd3cd",
   "metadata": {
    "execution": {
     "iopub.execute_input": "2021-09-26T08:01:25.913009Z",
     "iopub.status.busy": "2021-09-26T08:01:25.912398Z",
     "iopub.status.idle": "2021-09-26T08:01:25.916874Z",
     "shell.execute_reply": "2021-09-26T08:01:25.917491Z",
     "shell.execute_reply.started": "2021-09-26T07:30:20.885116Z"
    },
    "papermill": {
     "duration": 0.038279,
     "end_time": "2021-09-26T08:01:25.917664",
     "exception": false,
     "start_time": "2021-09-26T08:01:25.879385",
     "status": "completed"
    },
    "tags": []
   },
   "outputs": [
    {
     "data": {
      "text/plain": [
       "(404, 13)"
      ]
     },
     "execution_count": 11,
     "metadata": {},
     "output_type": "execute_result"
    }
   ],
   "source": [
    "X_train.shape"
   ]
  },
  {
   "cell_type": "markdown",
   "id": "3c352df5",
   "metadata": {
    "papermill": {
     "duration": 0.029829,
     "end_time": "2021-09-26T08:01:25.977521",
     "exception": false,
     "start_time": "2021-09-26T08:01:25.947692",
     "status": "completed"
    },
    "tags": []
   },
   "source": [
    "As we can see, 404 rows are used for testing out of 506 which is about 79.8% of the data."
   ]
  },
  {
   "cell_type": "markdown",
   "id": "bc5365c2",
   "metadata": {
    "papermill": {
     "duration": 0.029865,
     "end_time": "2021-09-26T08:01:26.037635",
     "exception": false,
     "start_time": "2021-09-26T08:01:26.007770",
     "status": "completed"
    },
    "tags": []
   },
   "source": [
    "# Linear Regression"
   ]
  },
  {
   "cell_type": "markdown",
   "id": "d2a5ef6d",
   "metadata": {
    "papermill": {
     "duration": 0.029518,
     "end_time": "2021-09-26T08:01:26.097013",
     "exception": false,
     "start_time": "2021-09-26T08:01:26.067495",
     "status": "completed"
    },
    "tags": []
   },
   "source": [
    "**We're going to use XG Gradient Boost library. We have a lot of numerical data to train and this is a high accuracy algorithm for such cases.**"
   ]
  },
  {
   "cell_type": "code",
   "execution_count": 12,
   "id": "0804403c",
   "metadata": {
    "execution": {
     "iopub.execute_input": "2021-09-26T08:01:26.161389Z",
     "iopub.status.busy": "2021-09-26T08:01:26.160706Z",
     "iopub.status.idle": "2021-09-26T08:01:26.163944Z",
     "shell.execute_reply": "2021-09-26T08:01:26.164598Z",
     "shell.execute_reply.started": "2021-09-26T07:30:20.895160Z"
    },
    "papermill": {
     "duration": 0.037011,
     "end_time": "2021-09-26T08:01:26.164768",
     "exception": false,
     "start_time": "2021-09-26T08:01:26.127757",
     "status": "completed"
    },
    "tags": []
   },
   "outputs": [],
   "source": [
    "# We have already imported the model so we only need to load it now\n",
    "model = XGBRegressor()"
   ]
  },
  {
   "cell_type": "code",
   "execution_count": 13,
   "id": "9ef8315a",
   "metadata": {
    "execution": {
     "iopub.execute_input": "2021-09-26T08:01:26.228688Z",
     "iopub.status.busy": "2021-09-26T08:01:26.227984Z",
     "iopub.status.idle": "2021-09-26T08:01:26.396245Z",
     "shell.execute_reply": "2021-09-26T08:01:26.395645Z",
     "shell.execute_reply.started": "2021-09-26T07:30:20.905671Z"
    },
    "papermill": {
     "duration": 0.201467,
     "end_time": "2021-09-26T08:01:26.396406",
     "exception": false,
     "start_time": "2021-09-26T08:01:26.194939",
     "status": "completed"
    },
    "tags": []
   },
   "outputs": [
    {
     "data": {
      "text/plain": [
       "XGBRegressor(base_score=0.5, booster='gbtree', colsample_bylevel=1,\n",
       "             colsample_bynode=1, colsample_bytree=1, gamma=0, gpu_id=-1,\n",
       "             importance_type='gain', interaction_constraints='',\n",
       "             learning_rate=0.300000012, max_delta_step=0, max_depth=6,\n",
       "             min_child_weight=1, missing=nan, monotone_constraints='()',\n",
       "             n_estimators=100, n_jobs=4, num_parallel_tree=1, random_state=0,\n",
       "             reg_alpha=0, reg_lambda=1, scale_pos_weight=1, subsample=1,\n",
       "             tree_method='exact', validate_parameters=1, verbosity=None)"
      ]
     },
     "execution_count": 13,
     "metadata": {},
     "output_type": "execute_result"
    }
   ],
   "source": [
    "# Now we need to train the model\n",
    "model.fit(X_train,y_train) # fitting means training"
   ]
  },
  {
   "cell_type": "markdown",
   "id": "0427c9c3",
   "metadata": {
    "papermill": {
     "duration": 0.029805,
     "end_time": "2021-09-26T08:01:26.456332",
     "exception": false,
     "start_time": "2021-09-26T08:01:26.426527",
     "status": "completed"
    },
    "tags": []
   },
   "source": [
    "# Prediction and Evaluation of the Model"
   ]
  },
  {
   "cell_type": "markdown",
   "id": "cd5c5b20",
   "metadata": {
    "papermill": {
     "duration": 0.029688,
     "end_time": "2021-09-26T08:01:26.516535",
     "exception": false,
     "start_time": "2021-09-26T08:01:26.486847",
     "status": "completed"
    },
    "tags": []
   },
   "source": [
    "**First, we need to use the model to predict prices from the training data. Then, we check our model's accuracy using R squared error/ Mean Square error/ Mean Absolute error (for regression).**"
   ]
  },
  {
   "cell_type": "code",
   "execution_count": 14,
   "id": "f50ab8ed",
   "metadata": {
    "execution": {
     "iopub.execute_input": "2021-09-26T08:01:26.591850Z",
     "iopub.status.busy": "2021-09-26T08:01:26.581665Z",
     "iopub.status.idle": "2021-09-26T08:01:26.600144Z",
     "shell.execute_reply": "2021-09-26T08:01:26.601381Z",
     "shell.execute_reply.started": "2021-09-26T07:36:11.310535Z"
    },
    "papermill": {
     "duration": 0.054909,
     "end_time": "2021-09-26T08:01:26.601611",
     "exception": false,
     "start_time": "2021-09-26T08:01:26.546702",
     "status": "completed"
    },
    "tags": []
   },
   "outputs": [
    {
     "data": {
      "text/plain": [
       "array([23.147501 , 20.99463  , 20.090284 , 34.69053  , 13.903663 ,\n",
       "       13.510157 , 21.998634 , 15.1940975, 10.899711 , 22.709627 ,\n",
       "       13.832816 ,  5.592794 , 29.810236 , 49.99096  , 34.89215  ,\n",
       "       20.607384 , 23.351097 , 19.23555  , 32.695698 , 19.641418 ,\n",
       "       26.991022 ,  8.401829 , 46.00729  , 21.708961 , 27.062933 ,\n",
       "       19.321356 , 19.288303 , 24.809872 , 22.61626  , 31.70493  ,\n",
       "       18.542515 ,  8.697379 , 17.395294 , 23.700663 , 13.304856 ,\n",
       "       10.492197 , 12.688369 , 25.016556 , 19.67495  , 14.902088 ,\n",
       "       24.193798 , 25.007143 , 14.900281 , 16.995798 , 15.6009035,\n",
       "       12.699232 , 24.51537  , 14.999952 , 50.00104  , 17.525454 ,\n",
       "       21.184624 , 31.998049 , 15.613355 , 22.89754  , 19.325378 ,\n",
       "       18.717896 , 23.301125 , 37.222923 , 30.09486  , 33.102703 ,\n",
       "       21.00072  , 49.999332 , 13.405827 ,  5.0280113, 16.492886 ,\n",
       "        8.405072 , 28.64328  , 19.499939 , 20.586452 , 45.402164 ,\n",
       "       39.79833  , 33.407326 , 19.83506  , 33.406372 , 25.271482 ,\n",
       "       50.001534 , 12.521657 , 17.457413 , 18.61758  , 22.602625 ,\n",
       "       50.002117 , 23.801117 , 23.317268 , 23.087355 , 41.700035 ,\n",
       "       16.119293 , 31.620516 , 36.069206 ,  7.0022025, 20.3827   ,\n",
       "       19.996452 , 11.986318 , 25.023014 , 49.970123 , 37.881588 ,\n",
       "       23.123034 , 41.292133 , 17.596548 , 16.305374 , 30.034231 ,\n",
       "       22.860699 , 19.810343 , 17.098848 , 18.898268 , 18.96717  ,\n",
       "       22.606049 , 23.141363 , 33.183487 , 15.010934 , 11.693824 ,\n",
       "       18.78828  , 20.80524  , 17.99983  , 19.68991  , 50.00332  ,\n",
       "       17.207317 , 16.404053 , 17.520426 , 14.593481 , 33.110855 ,\n",
       "       14.508482 , 43.821655 , 34.939106 , 20.381636 , 14.655634 ,\n",
       "        8.094332 , 11.7662115, 11.846876 , 18.69599  ,  6.314154 ,\n",
       "       23.983706 , 13.084503 , 19.603905 , 49.989143 , 22.300608 ,\n",
       "       18.930315 , 31.197134 , 20.69645  , 32.21111  , 36.15102  ,\n",
       "       14.240763 , 15.698188 , 49.99381  , 20.423601 , 16.184978 ,\n",
       "       13.409128 , 50.01321  , 31.602146 , 12.271495 , 19.219482 ,\n",
       "       29.794909 , 31.536846 , 22.798779 , 10.189648 , 24.08648  ,\n",
       "       23.710463 , 21.991894 , 13.802495 , 28.420696 , 33.181534 ,\n",
       "       13.105958 , 18.988266 , 26.576572 , 36.967175 , 30.794083 ,\n",
       "       22.77071  , 10.201246 , 22.213818 , 24.483162 , 36.178806 ,\n",
       "       23.09194  , 20.097307 , 19.470194 , 10.786644 , 22.671095 ,\n",
       "       19.502405 , 20.109184 ,  9.611871 , 42.799637 , 48.794792 ,\n",
       "       13.097208 , 20.28583  , 24.793974 , 14.110478 , 21.701134 ,\n",
       "       22.217012 , 33.003544 , 21.11041  , 25.00658  , 19.122992 ,\n",
       "       32.398567 , 13.605098 , 15.1145315, 23.088867 , 27.474783 ,\n",
       "       19.364998 , 26.487135 , 27.499458 , 28.697094 , 21.21718  ,\n",
       "       18.703201 , 26.775208 , 14.010719 , 21.692347 , 18.372562 ,\n",
       "       43.11582  , 29.081839 , 20.289959 , 23.680176 , 18.308306 ,\n",
       "       17.204844 , 18.320065 , 24.393475 , 26.396057 , 19.094141 ,\n",
       "       13.3019905, 22.15311  , 22.185797 ,  8.516214 , 18.894428 ,\n",
       "       21.792608 , 19.331121 , 18.197924 ,  7.5006843, 22.406403 ,\n",
       "       20.004215 , 14.412416 , 22.503702 , 28.53306  , 21.591028 ,\n",
       "       13.810223 , 20.497831 , 21.898977 , 23.104464 , 49.99585  ,\n",
       "       16.242056 , 30.294561 , 50.001595 , 17.771557 , 19.053703 ,\n",
       "       10.399217 , 20.378187 , 16.49973  , 17.183376 , 16.70228  ,\n",
       "       19.495337 , 30.507633 , 28.98067  , 19.528809 , 23.148346 ,\n",
       "       24.391027 ,  9.521643 , 23.886024 , 49.995125 , 21.167099 ,\n",
       "       22.597813 , 19.965279 , 13.4072275, 19.948694 , 17.087479 ,\n",
       "       12.738807 , 23.00453  , 15.222122 , 20.604322 , 26.207253 ,\n",
       "       18.09243  , 24.090246 , 14.105    , 21.689667 , 20.08065  ,\n",
       "       25.010437 , 27.874954 , 22.92366  , 18.509727 , 22.190847 ,\n",
       "       24.004797 , 14.788686 , 19.89675  , 24.39812  , 17.796036 ,\n",
       "       24.556297 , 31.970308 , 17.774675 , 23.356768 , 16.134794 ,\n",
       "       13.009915 , 10.98219  , 24.28906  , 15.56895  , 35.209793 ,\n",
       "       19.605724 , 42.301712 ,  8.797891 , 24.400295 , 14.086652 ,\n",
       "       15.408639 , 17.301126 , 22.127419 , 23.09363  , 44.79579  ,\n",
       "       17.776684 , 31.50014  , 22.835577 , 16.888603 , 23.925127 ,\n",
       "       12.097476 , 38.685944 , 21.388391 , 15.98878  , 23.912495 ,\n",
       "       11.909485 , 24.960499 ,  7.2018585, 24.696215 , 18.201897 ,\n",
       "       22.489008 , 23.03332  , 24.260433 , 17.101519 , 17.805563 ,\n",
       "       13.493165 , 27.105328 , 13.311978 , 21.913465 , 20.00738  ,\n",
       "       15.405392 , 16.595737 , 22.301016 , 24.708412 , 21.422579 ,\n",
       "       22.878702 , 29.606575 , 21.877811 , 19.900253 , 29.605219 ,\n",
       "       23.407152 , 13.781474 , 24.454706 , 11.897682 ,  7.2203646,\n",
       "       20.521074 ,  9.725295 , 48.30087  , 25.19501  , 11.688618 ,\n",
       "       17.404732 , 14.480284 , 28.618876 , 19.397131 , 22.468653 ,\n",
       "        7.0117908, 20.602013 , 22.970919 , 19.719397 , 23.693787 ,\n",
       "       25.048244 , 27.977154 , 13.393578 , 14.513882 , 20.309145 ,\n",
       "       19.306028 , 24.095829 , 14.894031 , 26.382381 , 33.298378 ,\n",
       "       23.61644  , 24.591206 , 18.514652 , 20.900269 , 10.406055 ,\n",
       "       23.303423 , 13.092017 , 24.675085 , 22.582184 , 20.502762 ,\n",
       "       16.820635 , 10.220605 , 33.81239  , 18.608067 , 49.999187 ,\n",
       "       23.775583 , 23.909609 , 21.192276 , 18.805798 ,  8.502987 ,\n",
       "       21.50807  , 23.204473 , 21.012218 , 16.611097 , 28.100965 ,\n",
       "       21.193024 , 28.419638 , 14.294126 , 49.99958  , 30.988504 ,\n",
       "       24.991066 , 21.433628 , 18.975573 , 28.991457 , 15.206939 ,\n",
       "       22.817244 , 21.765755 , 19.915497 , 23.7961   ], dtype=float32)"
      ]
     },
     "execution_count": 14,
     "metadata": {},
     "output_type": "execute_result"
    }
   ],
   "source": [
    "train_pred = model.predict(X_train)\n",
    "train_pred"
   ]
  },
  {
   "cell_type": "code",
   "execution_count": 15,
   "id": "c592ee94",
   "metadata": {
    "execution": {
     "iopub.execute_input": "2021-09-26T08:01:26.671487Z",
     "iopub.status.busy": "2021-09-26T08:01:26.670397Z",
     "iopub.status.idle": "2021-09-26T08:01:26.676449Z",
     "shell.execute_reply": "2021-09-26T08:01:26.675926Z",
     "shell.execute_reply.started": "2021-09-26T07:45:11.409084Z"
    },
    "papermill": {
     "duration": 0.043754,
     "end_time": "2021-09-26T08:01:26.676607",
     "exception": false,
     "start_time": "2021-09-26T08:01:26.632853",
     "status": "completed"
    },
    "tags": []
   },
   "outputs": [
    {
     "name": "stdout",
     "output_type": "stream",
     "text": [
      "R squared error: 0.9999948236320982\n",
      "Mean absolute error: 0.0145848437110976\n"
     ]
    }
   ],
   "source": [
    "# Now we use R squared error (Basically comparing the original y_train and predictions and seeing difference/error)\n",
    "RSQscore = metrics.r2_score(y_train,train_pred)\n",
    "\n",
    "# We can also check using mean absolute error\n",
    "MAEscore = metrics.mean_absolute_error(y_train,train_pred) # just finds difference between each and finds an average\n",
    "\n",
    "# Let's check\n",
    "\n",
    "# The closer ithe errors are to 0, the more accurate our model is.\n",
    "print(\"R squared error:\",RSQscore) \n",
    "print(\"Mean absolute error:\",MAEscore) "
   ]
  },
  {
   "cell_type": "markdown",
   "id": "d83f54fe",
   "metadata": {
    "papermill": {
     "duration": 0.0313,
     "end_time": "2021-09-26T08:01:26.739224",
     "exception": false,
     "start_time": "2021-09-26T08:01:26.707924",
     "status": "completed"
    },
    "tags": []
   },
   "source": [
    "**Both R squared error and MAE are pretty close to 0 so we our model must be quite accurate.**"
   ]
  },
  {
   "cell_type": "markdown",
   "id": "2ad80864",
   "metadata": {
    "papermill": {
     "duration": 0.031265,
     "end_time": "2021-09-26T08:01:26.802078",
     "exception": false,
     "start_time": "2021-09-26T08:01:26.770813",
     "status": "completed"
    },
    "tags": []
   },
   "source": [
    "**But keep in mind that we used training data to check accuracy. We need to check using test data for a better understanding.**"
   ]
  },
  {
   "cell_type": "code",
   "execution_count": 16,
   "id": "2c3b0e17",
   "metadata": {
    "execution": {
     "iopub.execute_input": "2021-09-26T08:01:26.872386Z",
     "iopub.status.busy": "2021-09-26T08:01:26.871339Z",
     "iopub.status.idle": "2021-09-26T08:01:26.883148Z",
     "shell.execute_reply": "2021-09-26T08:01:26.882027Z",
     "shell.execute_reply.started": "2021-09-26T07:48:47.042288Z"
    },
    "papermill": {
     "duration": 0.049274,
     "end_time": "2021-09-26T08:01:26.883375",
     "exception": false,
     "start_time": "2021-09-26T08:01:26.834101",
     "status": "completed"
    },
    "tags": []
   },
   "outputs": [
    {
     "data": {
      "text/plain": [
       "array([20.288406 , 20.60247  , 30.9758   , 29.910797 ,  8.624953 ,\n",
       "       14.235525 , 23.523052 , 29.730324 , 31.97293  , 22.015892 ,\n",
       "       27.946804 , 24.034412 , 20.771402 , 21.849985 , 12.024127 ,\n",
       "       22.074675 , 18.487509 , 11.052485 ,  8.141267 , 15.730722 ,\n",
       "       23.163914 , 20.233883 , 35.700928 , 19.041637 , 15.129744 ,\n",
       "       20.228016 , 47.067314 , 30.426474 , 32.729023 , 17.345776 ,\n",
       "       17.889462 , 19.40687  , 30.769133 , 25.431686 , 12.05332  ,\n",
       "       17.900238 , 11.031679 , 21.109531 , 20.64321  , 21.982754 ,\n",
       "       25.016281 , 12.648555 , 31.042107 ,  7.106914 , 18.685764 ,\n",
       "       14.380013 , 34.902393 , 16.130005 , 32.98537  , 10.950912 ,\n",
       "       27.335018 , 29.399937 ,  7.0065055, 35.398712 , 22.978228 ,\n",
       "       18.582758 , 19.224293 , 20.003431 , 15.341814 , 22.38517  ,\n",
       "       19.077105 , 21.955967 , 18.91404  , 32.77595  , 32.76772  ,\n",
       "       24.36317  , 48.262913 , 23.385014 , 10.551914 , 22.664684 ,\n",
       "       14.671612 ,  8.881822 , 16.700302 , 17.221045 , 26.204681 ,\n",
       "       26.826794 , 21.590458 , 21.61216  , 19.662537 , 23.533224 ,\n",
       "       33.25156  , 17.105299 , 19.517323 , 29.344427 , 48.885273 ,\n",
       "       35.723255 , 18.257914 , 24.461905 , 27.235567 , 21.319864 ,\n",
       "       21.661198 , 20.753967 , 11.241813 , 36.715706 , 37.199463 ,\n",
       "        9.123582 , 43.117516 , 34.55289  , 22.041529 , 16.860765 ,\n",
       "       29.876814 , 23.332623 ], dtype=float32)"
      ]
     },
     "execution_count": 16,
     "metadata": {},
     "output_type": "execute_result"
    }
   ],
   "source": [
    "test_pred = model.predict(X_test)\n",
    "test_pred"
   ]
  },
  {
   "cell_type": "code",
   "execution_count": 17,
   "id": "23ccc0a7",
   "metadata": {
    "execution": {
     "iopub.execute_input": "2021-09-26T08:01:26.956990Z",
     "iopub.status.busy": "2021-09-26T08:01:26.956353Z",
     "iopub.status.idle": "2021-09-26T08:01:26.958970Z",
     "shell.execute_reply": "2021-09-26T08:01:26.959471Z",
     "shell.execute_reply.started": "2021-09-26T07:50:47.556093Z"
    },
    "papermill": {
     "duration": 0.042424,
     "end_time": "2021-09-26T08:01:26.959640",
     "exception": false,
     "start_time": "2021-09-26T08:01:26.917216",
     "status": "completed"
    },
    "tags": []
   },
   "outputs": [
    {
     "name": "stdout",
     "output_type": "stream",
     "text": [
      "R squared error: 0.8711660369151691\n",
      "Mean absolute error: 2.2834744154238233\n"
     ]
    }
   ],
   "source": [
    "# R squared error\n",
    "TestRSQscore = metrics.r2_score(y_test,test_pred)\n",
    "\n",
    "# Mean absolute error\n",
    "TestMAEscore = metrics.mean_absolute_error(y_test,test_pred)\n",
    "\n",
    "# Let's check\n",
    "\n",
    "# The closer ithe errors are to 0, the more accurate our model is.\n",
    "print(\"R squared error:\",TestRSQscore) \n",
    "print(\"Mean absolute error:\",TestMAEscore) "
   ]
  },
  {
   "cell_type": "markdown",
   "id": "c2476ca9",
   "metadata": {
    "papermill": {
     "duration": 0.031396,
     "end_time": "2021-09-26T08:01:27.029748",
     "exception": false,
     "start_time": "2021-09-26T08:01:26.998352",
     "status": "completed"
    },
    "tags": []
   },
   "source": [
    "**The R squared error is pretty good as it is very close to 0 but mean absolute is a little higher than we last saw with our training data, but it's not too bad, could be improved.**"
   ]
  },
  {
   "cell_type": "markdown",
   "id": "6292499a",
   "metadata": {
    "papermill": {
     "duration": 0.031446,
     "end_time": "2021-09-26T08:01:27.093360",
     "exception": false,
     "start_time": "2021-09-26T08:01:27.061914",
     "status": "completed"
    },
    "tags": []
   },
   "source": [
    "# Conclusion"
   ]
  },
  {
   "cell_type": "markdown",
   "id": "c481e9e5",
   "metadata": {
    "papermill": {
     "duration": 0.031188,
     "end_time": "2021-09-26T08:01:27.156320",
     "exception": false,
     "start_time": "2021-09-26T08:01:27.125132",
     "status": "completed"
    },
    "tags": []
   },
   "source": [
    "So basically the workflow is like this: Import libraries and dataset -> check for missing values -> perform necessary imputation -> understand your variables -> split data -> train model -> check its accuracy -> improve model or try other ones."
   ]
  },
  {
   "cell_type": "markdown",
   "id": "6ae33cd0",
   "metadata": {
    "papermill": {
     "duration": 0.030974,
     "end_time": "2021-09-26T08:01:27.219149",
     "exception": false,
     "start_time": "2021-09-26T08:01:27.188175",
     "status": "completed"
    },
    "tags": []
   },
   "source": [
    "**To get better accuracy, try different models or use more training data.**"
   ]
  }
 ],
 "metadata": {
  "kernelspec": {
   "display_name": "Python 3",
   "language": "python",
   "name": "python3"
  },
  "language_info": {
   "codemirror_mode": {
    "name": "ipython",
    "version": 3
   },
   "file_extension": ".py",
   "mimetype": "text/x-python",
   "name": "python",
   "nbconvert_exporter": "python",
   "pygments_lexer": "ipython3",
   "version": "3.7.10"
  },
  "papermill": {
   "default_parameters": {},
   "duration": 14.788445,
   "end_time": "2021-09-26T08:01:28.395849",
   "environment_variables": {},
   "exception": null,
   "input_path": "__notebook__.ipynb",
   "output_path": "__notebook__.ipynb",
   "parameters": {},
   "start_time": "2021-09-26T08:01:13.607404",
   "version": "2.3.3"
  }
 },
 "nbformat": 4,
 "nbformat_minor": 5
}
